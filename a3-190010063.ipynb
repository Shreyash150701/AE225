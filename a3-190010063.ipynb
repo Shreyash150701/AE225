{
 "cells": [
  {
   "cell_type": "code",
   "execution_count": 1,
   "id": "6e060392",
   "metadata": {},
   "outputs": [],
   "source": [
    "%matplotlib inline\n",
    "\n",
    "import numpy as np\n",
    "import matplotlib as mpl\n",
    "import matplotlib.pyplot as plt\n",
    " \n",
    "from ipywidgets import interact\n",
    "from scipy.integrate import odeint, solve_ivp\n",
    "from matplotlib import cm"
   ]
  },
  {
   "cell_type": "markdown",
   "id": "c5670ca9",
   "metadata": {},
   "source": [
    "<hr style=\"border:2px solid black\"> </hr>"
   ]
  },
  {
   "cell_type": "markdown",
   "id": "64dd8928",
   "metadata": {},
   "source": [
    "Consider a flow past a cylinder of radius 1 with the free stream from the left:\n",
    "\n",
    "$$ \\Phi = \\Phi_{F.S.} + \\Phi_{Doublet} = \\alpha\\bigg[z + \\frac{1}{z}\\bigg]$$\n",
    "\n",
    "\n",
    "\n",
    "$$ u = \\alpha \\bigg[1 - \\frac{(x^2 - y^2)}{(x^2 + y^2)^2}\\bigg], \\ \\ v = \\frac{-2\\alpha xy}{(x^2 + y^2)^2} $$\n",
    "\n",
    "\n",
    "\n",
    "$$ \\therefore |V| = \\alpha\\sqrt{1 + \\frac{1 - 2(x^2 - y^2)}{(x^2 + y^2)^2}} = \\alpha\\sqrt{1 + \\frac{1 - 2r^2\\cos{2\\theta}}{r^4}}$$\n",
    "\n",
    "Coefficient of Pressure:\n",
    "\n",
    "\n",
    "$$ C_p = \\frac{P - P_\\infty}{\\frac{1}{2}\\rho v_\\infty^2} $$\n",
    "\n",
    "Since $ P_\\infty + \\frac{1}{2}\\rho v_\\infty^2 \\ = \\ P + \\frac{1}{2}\\rho v^2 $ (Bernoulli's Equation):\n",
    "\n",
    "$$ C_p = \\frac{P - P_\\infty}{\\frac{1}{2}\\rho v_\\infty^2} = \\frac{v_\\infty^2 - v^2}{v_\\infty^2} = 1 - \\frac{v^2}{v_\\infty^2} $$"
   ]
  },
  {
   "cell_type": "code",
   "execution_count": 2,
   "id": "1d9373a2",
   "metadata": {
    "scrolled": false
   },
   "outputs": [
    {
     "data": {
      "application/vnd.jupyter.widget-view+json": {
       "model_id": "d18eff11f66042ec90187099e553084d",
       "version_major": 2,
       "version_minor": 0
      },
      "text/plain": [
       "interactive(children=(FloatSlider(value=1.0, description='alpha', max=2.0, step=0.5), Dropdown(description='Pl…"
      ]
     },
     "metadata": {},
     "output_type": "display_data"
    }
   ],
   "source": [
    "# Cp and V plots at the surface of the cylinder of radius 1:\n",
    "def cp_v_plot(alpha, Plot):\n",
    "    fig, ax = plt.subplots(nrows = 1, ncols = 1)\n",
    "    \n",
    "    theta = np.linspace(0, 2*np.pi, 1000)\n",
    "    r = 1\n",
    "    \n",
    "    v = alpha*np.sqrt(1 + ((1 - 2*r*r*np.cos(2*theta))/(r**4)))\n",
    "    cp = 1 - (v/alpha)**2\n",
    "    \n",
    "    if Plot == 'Velocity vs Theta':\n",
    "        ax.plot(theta, v)\n",
    "        ax.set_title(Plot)\n",
    "        ax.set_xlabel('$\\Theta$')\n",
    "        ax.set_ylabel('V')\n",
    "        ax.axis('equal')\n",
    "    \n",
    "    elif Plot == 'CP vs Theta':\n",
    "        ax.set_ylabel('$C_p$')\n",
    "        ax.set_xlabel('$\\Theta$')\n",
    "        ax.set_label(Plot)\n",
    "        ax.plot(theta, cp)\n",
    "        ax.axis('equal')\n",
    "\n",
    "interact(cp_v_plot, alpha = (0, 2, 0.5), Plot = ['Velocity vs Theta', 'CP vs Theta']);"
   ]
  },
  {
   "cell_type": "markdown",
   "id": "e38db5c9",
   "metadata": {},
   "source": [
    "<hr style=\"border:2px solid black\"> </hr>"
   ]
  },
  {
   "cell_type": "markdown",
   "id": "5dae75a6",
   "metadata": {},
   "source": [
    "Adding a vortex of strength $\\Gamma$ to the flow model $(\\beta = \\frac{\\Gamma}{2\\pi}) $:\n",
    "\n",
    "$$ \\Phi = \\Phi_{F.S.} + \\Phi_{Doublet} + \\Phi_{Vortex} = \\alpha\\bigg[z + \\frac{1}{z}\\bigg] - i\\beta\\ln{z}$$\n",
    "\n",
    "\n",
    "\n",
    "$$ u = \\alpha \\bigg[1 - \\frac{(x^2 - y^2)}{(x^2 + y^2)^2}\\bigg] + \\frac{-\\beta y}{(x^2 + y^2)}, \\ \\ v = \\frac{-2\\alpha xy}{(x^2 + y^2)^2} + \\frac{\\beta x}{(x^2 + y^2)} $$\n"
   ]
  },
  {
   "cell_type": "code",
   "execution_count": 3,
   "id": "8219b564",
   "metadata": {
    "scrolled": false
   },
   "outputs": [
    {
     "data": {
      "application/vnd.jupyter.widget-view+json": {
       "model_id": "d87a04829c5444579c902bedd6912e09",
       "version_major": 2,
       "version_minor": 0
      },
      "text/plain": [
       "interactive(children=(FloatSlider(value=1.0, description='alpha', max=2.0, step=0.5), FloatSlider(value=1.0, d…"
      ]
     },
     "metadata": {},
     "output_type": "display_data"
    }
   ],
   "source": [
    "# Cp, V at the cylinder surface, Streamlines and Potential Lines outside the cylinder, Pressure field:\n",
    "# Rho, P_inf assumed to be 1\n",
    "def vortex_cylinder_plots(alpha, Gamma, Plot):\n",
    "    \n",
    "    beta = Gamma/(2*np.pi)\n",
    "    x, y = np.mgrid[-3:3:50j, -3:3:50j]\n",
    "    z = x + 1j*y\n",
    "    \n",
    "    Phi = alpha*(z + (1/z)) - 1j*beta*np.log(z)\n",
    "    vz = alpha*(1 - 1/(z**2)) - 1j*(beta/z)\n",
    "    u, v = vz.real, -vz.imag\n",
    "    \n",
    "    if Plot == 'Velocity vs Theta':\n",
    "        theta = np.linspace(0, 2*np.pi, 100)\n",
    "        v = np.sqrt((2*alpha*np.sin(theta) - beta)**2)\n",
    "        plt.figure(figsize = (10, 10))\n",
    "        plt.plot(theta, v)\n",
    "        pass\n",
    "    \n",
    "    elif Plot == 'Streamlines':\n",
    "        plt.figure(figsize = (10, 10))\n",
    "        plt.contour(x, y, Phi.imag, 50)\n",
    "        plt.contour(x, y, Phi.imag, [0], colors = 'Red')\n",
    "        \n",
    "    elif Plot == 'Potential Lines':\n",
    "        plt.figure(figsize = (10, 10))\n",
    "        plt.contour(x, y, Phi.real, 50)\n",
    "        \n",
    "    elif Plot == 'Pressure Field':\n",
    "        x, y = np.mgrid[-2.5:2.5:100j, -2.5:2.5:100j]\n",
    "        beta = Gamma/(2*np.pi)\n",
    "        \n",
    "        z = x + 1j*y\n",
    "    \n",
    "        Phi = alpha*(z + (1/z)) - 1j*beta*np.log(z)\n",
    "        vz = alpha*(1 - 1/(z**2)) - 1j*(beta/z)\n",
    "        u, v = vz.real, -vz.imag\n",
    "        \n",
    "        \n",
    "        p = 1 + 0.5*(np.absolute(vz))**2\n",
    "        p[np.sqrt(x**2 + y**2) < 0.5] = 0\n",
    "        plt.figure(figsize = (10, 10))\n",
    "        plt.contour(x, y, p, 10)\n",
    "    \n",
    "    elif Plot == 'CP vs Theta':\n",
    "        theta = np.linspace(0, 2*np.pi, 100)\n",
    "        cp = 1 - (2*np.sin(theta) + (beta/alpha))**2\n",
    "        plt.figure(figsize = (10, 10))\n",
    "        plt.plot(theta, cp)\n",
    "        \n",
    "interact(vortex_cylinder_plots, alpha = (0, 2, 0.5), Gamma = (0, 2, 0.5), Plot = ['Streamlines', 'Potential Lines', 'Pressure Field', 'Velocity vs Theta', 'CP vs Theta']);"
   ]
  },
  {
   "cell_type": "markdown",
   "id": "e56847af",
   "metadata": {},
   "source": [
    "Force on the cylinder:\n",
    "\n",
    "$$F =  \\oint_{C} \\frac{1}{2}\\rho [v_\\infty^2 - v^2 ] d\\vec{A}  = \\int_o^{2\\pi} \\frac{1}{2}[v_\\infty^2 - v^2](-cos\\theta \\hat{i} - sin\\theta \\hat{j})d\\theta$$\n",
    "\n",
    "$$ v(r, \\theta)  =  \\bigg[\\alpha\\bigg[1 - \\frac{\\cos{2\\theta}}{r^2}\\bigg] - \\frac{\\beta\\sin{\\theta}}{r}\\bigg] \\hat{i} + \\bigg[-\\frac{\\alpha\\sin{2\\theta}}{r^2} + \\frac{\\beta\\cos{\\theta}}{r}\\bigg]\\hat{j}$$\n",
    "\n"
   ]
  },
  {
   "cell_type": "code",
   "execution_count": 4,
   "id": "e4d95edd",
   "metadata": {},
   "outputs": [
    {
     "data": {
      "application/vnd.jupyter.widget-view+json": {
       "model_id": "8ec1f06c20a74823a498b6c1b8071038",
       "version_major": 2,
       "version_minor": 0
      },
      "text/plain": [
       "interactive(children=(FloatSlider(value=1.0, description='alpha', max=2.0, step=0.5), FloatSlider(value=1.0, d…"
      ]
     },
     "metadata": {},
     "output_type": "display_data"
    }
   ],
   "source": [
    "def integral(alpha, Gamma):\n",
    "    beta = Gamma/(2*np.pi)\n",
    "    dl = 0.001\n",
    "    theta = np.arange(0, 2*np.pi, dl)\n",
    "    lift = 0\n",
    "    drag = 0\n",
    "    for i in range(len(theta)):\n",
    "        if i < len(theta) - 1:\n",
    "            theta_i = (theta[i] + theta[i + 1])/2\n",
    "        else:\n",
    "            theta_i = theta[i]\n",
    "        c1 = np.cos(theta_i)\n",
    "        c2 = np.cos(2*theta_i)\n",
    "        s1 = np.sin(theta_i)\n",
    "        s2 = np.sin(2*theta_i)\n",
    "        lift += -s1*dl*(0.5*(alpha**2 - ((alpha - alpha*c2 - beta*s1)**2 + (alpha*s2 - beta*c1)**2)))\n",
    "        drag += -c1*dl*(0.5*(alpha**2 - ((alpha - alpha*c2 - beta*s1)**2 + (alpha*s2 - beta*c1)**2)))\n",
    "    print('The Lift force experienced by the cylinder at alpha =', alpha, 'Gamma =', Gamma, 'is equal to ', lift, '\\n')\n",
    "    print('The Drag force experienced by the cylinder at alpha =', alpha, 'Gamma =', Gamma, 'is equal to ', drag, '\\n')\n",
    "interact(integral, alpha = (0, 2, 0.5), Gamma = (0, 2, 0.5));"
   ]
  }
 ],
 "metadata": {
  "kernelspec": {
   "display_name": "Python 3",
   "language": "python",
   "name": "python3"
  },
  "language_info": {
   "codemirror_mode": {
    "name": "ipython",
    "version": 3
   },
   "file_extension": ".py",
   "mimetype": "text/x-python",
   "name": "python",
   "nbconvert_exporter": "python",
   "pygments_lexer": "ipython3",
   "version": "3.8.10"
  }
 },
 "nbformat": 4,
 "nbformat_minor": 5
}
